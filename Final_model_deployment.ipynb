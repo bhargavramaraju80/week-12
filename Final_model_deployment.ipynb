{
 "cells": [
  {
   "cell_type": "markdown",
   "metadata": {
    "id": "r8ptD-gV-m8k"
   },
   "source": [
    "# **Imports**"
   ]
  },
  {
   "cell_type": "code",
   "execution_count": 1,
   "metadata": {
    "id": "erVUZ5wwHNWp"
   },
   "outputs": [
    {
     "ename": "XGBoostError",
     "evalue": "XGBoost Library (libxgboost.dylib) could not be loaded.\nLikely causes:\n  * OpenMP runtime is not installed (vcomp140.dll or libgomp-1.dll for Windows, libomp.dylib for Mac OSX, libgomp.so for Linux and other UNIX-like OSes). Mac OSX users: Run `brew install libomp` to install OpenMP runtime.\n  * You are running 32-bit Python on a 64-bit OS\nError message(s): ['dlopen(/Users/bhargavaramarajudandu/opt/anaconda3/lib/python3.8/site-packages/xgboost/lib/libxgboost.dylib, 6): Library not loaded: /usr/local/opt/libomp/lib/libomp.dylib\\n  Referenced from: /Users/bhargavaramarajudandu/opt/anaconda3/lib/python3.8/site-packages/xgboost/lib/libxgboost.dylib\\n  Reason: image not found']\n",
     "output_type": "error",
     "traceback": [
      "\u001b[0;31m---------------------------------------------------------------------------\u001b[0m",
      "\u001b[0;31mXGBoostError\u001b[0m                              Traceback (most recent call last)",
      "\u001b[0;32m<ipython-input-1-bf64cd180e76>\u001b[0m in \u001b[0;36m<module>\u001b[0;34m\u001b[0m\n\u001b[1;32m     17\u001b[0m \u001b[0;32mfrom\u001b[0m \u001b[0msklearn\u001b[0m\u001b[0;34m.\u001b[0m\u001b[0msvm\u001b[0m \u001b[0;32mimport\u001b[0m \u001b[0mSVC\u001b[0m\u001b[0;34m,\u001b[0m \u001b[0mLinearSVC\u001b[0m\u001b[0;34m\u001b[0m\u001b[0;34m\u001b[0m\u001b[0m\n\u001b[1;32m     18\u001b[0m \u001b[0;32mfrom\u001b[0m \u001b[0msklearn\u001b[0m\u001b[0;34m.\u001b[0m\u001b[0mensemble\u001b[0m \u001b[0;32mimport\u001b[0m \u001b[0mRandomForestClassifier\u001b[0m\u001b[0;34m,\u001b[0m \u001b[0mBaggingClassifier\u001b[0m\u001b[0;34m,\u001b[0m \u001b[0mAdaBoostClassifier\u001b[0m\u001b[0;34m,\u001b[0m \u001b[0mExtraTreesClassifier\u001b[0m\u001b[0;34m,\u001b[0m \u001b[0mGradientBoostingClassifier\u001b[0m\u001b[0;34m,\u001b[0m \u001b[0mStackingClassifier\u001b[0m\u001b[0;34m,\u001b[0m \u001b[0mVotingClassifier\u001b[0m\u001b[0;34m\u001b[0m\u001b[0;34m\u001b[0m\u001b[0m\n\u001b[0;32m---> 19\u001b[0;31m \u001b[0;32mfrom\u001b[0m \u001b[0mxgboost\u001b[0m \u001b[0;32mimport\u001b[0m \u001b[0mXGBClassifier\u001b[0m\u001b[0;34m\u001b[0m\u001b[0;34m\u001b[0m\u001b[0m\n\u001b[0m\u001b[1;32m     20\u001b[0m \u001b[0;32mfrom\u001b[0m \u001b[0msklearn\u001b[0m\u001b[0;34m.\u001b[0m\u001b[0mneural_network\u001b[0m \u001b[0;32mimport\u001b[0m \u001b[0mMLPClassifier\u001b[0m\u001b[0;34m\u001b[0m\u001b[0;34m\u001b[0m\u001b[0m\n\u001b[1;32m     21\u001b[0m \u001b[0;32mfrom\u001b[0m \u001b[0msklearn\u001b[0m\u001b[0;34m.\u001b[0m\u001b[0mpipeline\u001b[0m \u001b[0;32mimport\u001b[0m \u001b[0mmake_pipeline\u001b[0m\u001b[0;34m\u001b[0m\u001b[0;34m\u001b[0m\u001b[0m\n",
      "\u001b[0;32m~/opt/anaconda3/lib/python3.8/site-packages/xgboost/__init__.py\u001b[0m in \u001b[0;36m<module>\u001b[0;34m\u001b[0m\n\u001b[1;32m      7\u001b[0m \u001b[0;32mimport\u001b[0m \u001b[0mos\u001b[0m\u001b[0;34m\u001b[0m\u001b[0;34m\u001b[0m\u001b[0m\n\u001b[1;32m      8\u001b[0m \u001b[0;34m\u001b[0m\u001b[0m\n\u001b[0;32m----> 9\u001b[0;31m \u001b[0;32mfrom\u001b[0m \u001b[0;34m.\u001b[0m\u001b[0mcore\u001b[0m \u001b[0;32mimport\u001b[0m \u001b[0mDMatrix\u001b[0m\u001b[0;34m,\u001b[0m \u001b[0mDeviceQuantileDMatrix\u001b[0m\u001b[0;34m,\u001b[0m \u001b[0mBooster\u001b[0m\u001b[0;34m\u001b[0m\u001b[0;34m\u001b[0m\u001b[0m\n\u001b[0m\u001b[1;32m     10\u001b[0m \u001b[0;32mfrom\u001b[0m \u001b[0;34m.\u001b[0m\u001b[0mtraining\u001b[0m \u001b[0;32mimport\u001b[0m \u001b[0mtrain\u001b[0m\u001b[0;34m,\u001b[0m \u001b[0mcv\u001b[0m\u001b[0;34m\u001b[0m\u001b[0;34m\u001b[0m\u001b[0m\n\u001b[1;32m     11\u001b[0m \u001b[0;32mfrom\u001b[0m \u001b[0;34m.\u001b[0m \u001b[0;32mimport\u001b[0m \u001b[0mrabit\u001b[0m  \u001b[0;31m# noqa\u001b[0m\u001b[0;34m\u001b[0m\u001b[0;34m\u001b[0m\u001b[0m\n",
      "\u001b[0;32m~/opt/anaconda3/lib/python3.8/site-packages/xgboost/core.py\u001b[0m in \u001b[0;36m<module>\u001b[0;34m\u001b[0m\n\u001b[1;32m    193\u001b[0m \u001b[0;34m\u001b[0m\u001b[0m\n\u001b[1;32m    194\u001b[0m \u001b[0;31m# load the XGBoost library globally\u001b[0m\u001b[0;34m\u001b[0m\u001b[0;34m\u001b[0m\u001b[0;34m\u001b[0m\u001b[0m\n\u001b[0;32m--> 195\u001b[0;31m \u001b[0m_LIB\u001b[0m \u001b[0;34m=\u001b[0m \u001b[0m_load_lib\u001b[0m\u001b[0;34m(\u001b[0m\u001b[0;34m)\u001b[0m\u001b[0;34m\u001b[0m\u001b[0;34m\u001b[0m\u001b[0m\n\u001b[0m\u001b[1;32m    196\u001b[0m \u001b[0;34m\u001b[0m\u001b[0m\n\u001b[1;32m    197\u001b[0m \u001b[0;34m\u001b[0m\u001b[0m\n",
      "\u001b[0;32m~/opt/anaconda3/lib/python3.8/site-packages/xgboost/core.py\u001b[0m in \u001b[0;36m_load_lib\u001b[0;34m()\u001b[0m\n\u001b[1;32m    176\u001b[0m     \u001b[0;32mif\u001b[0m \u001b[0;32mnot\u001b[0m \u001b[0mlib_success\u001b[0m\u001b[0;34m:\u001b[0m\u001b[0;34m\u001b[0m\u001b[0;34m\u001b[0m\u001b[0m\n\u001b[1;32m    177\u001b[0m         \u001b[0mlibname\u001b[0m \u001b[0;34m=\u001b[0m \u001b[0mos\u001b[0m\u001b[0;34m.\u001b[0m\u001b[0mpath\u001b[0m\u001b[0;34m.\u001b[0m\u001b[0mbasename\u001b[0m\u001b[0;34m(\u001b[0m\u001b[0mlib_paths\u001b[0m\u001b[0;34m[\u001b[0m\u001b[0;36m0\u001b[0m\u001b[0;34m]\u001b[0m\u001b[0;34m)\u001b[0m\u001b[0;34m\u001b[0m\u001b[0;34m\u001b[0m\u001b[0m\n\u001b[0;32m--> 178\u001b[0;31m         raise XGBoostError(\n\u001b[0m\u001b[1;32m    179\u001b[0m             \u001b[0;34m'XGBoost Library ({}) could not be loaded.\\n'\u001b[0m\u001b[0;34m.\u001b[0m\u001b[0mformat\u001b[0m\u001b[0;34m(\u001b[0m\u001b[0mlibname\u001b[0m\u001b[0;34m)\u001b[0m \u001b[0;34m+\u001b[0m\u001b[0;34m\u001b[0m\u001b[0;34m\u001b[0m\u001b[0m\n\u001b[1;32m    180\u001b[0m             \u001b[0;34m'Likely causes:\\n'\u001b[0m \u001b[0;34m+\u001b[0m\u001b[0;34m\u001b[0m\u001b[0;34m\u001b[0m\u001b[0m\n",
      "\u001b[0;31mXGBoostError\u001b[0m: XGBoost Library (libxgboost.dylib) could not be loaded.\nLikely causes:\n  * OpenMP runtime is not installed (vcomp140.dll or libgomp-1.dll for Windows, libomp.dylib for Mac OSX, libgomp.so for Linux and other UNIX-like OSes). Mac OSX users: Run `brew install libomp` to install OpenMP runtime.\n  * You are running 32-bit Python on a 64-bit OS\nError message(s): ['dlopen(/Users/bhargavaramarajudandu/opt/anaconda3/lib/python3.8/site-packages/xgboost/lib/libxgboost.dylib, 6): Library not loaded: /usr/local/opt/libomp/lib/libomp.dylib\\n  Referenced from: /Users/bhargavaramarajudandu/opt/anaconda3/lib/python3.8/site-packages/xgboost/lib/libxgboost.dylib\\n  Reason: image not found']\n"
     ]
    }
   ],
   "source": [
    "import numpy as np\n",
    "import pandas as pd\n",
    "import matplotlib.pyplot as plt\n",
    "import seaborn as sns\n",
    "import plotly.express as px\n",
    "from scipy import stats\n",
    "import collections\n",
    "from sklearn.preprocessing import StandardScaler, RobustScaler, MinMaxScaler\n",
    "from sklearn.metrics import precision_score, recall_score, f1_score, roc_auc_score, accuracy_score, classification_report, roc_curve, confusion_matrix\n",
    "from sklearn.model_selection import train_test_split\n",
    "from sklearn.utils import resample\n",
    "from IPython.core.interactiveshell import InteractiveShell\n",
    "import warnings\n",
    "\n",
    "#importing packages for modeling\n",
    "from sklearn.linear_model import LogisticRegression, RidgeClassifier, SGDClassifier\n",
    "from sklearn.svm import SVC, LinearSVC\n",
    "from sklearn.ensemble import RandomForestClassifier, BaggingClassifier, AdaBoostClassifier, ExtraTreesClassifier, GradientBoostingClassifier, StackingClassifier, VotingClassifier\n",
    "from xgboost import XGBClassifier\n",
    "from sklearn.neural_network import MLPClassifier\n",
    "from sklearn.pipeline import make_pipeline\n",
    "\n",
    "import tensorflow as tf\n",
    "from tensorflow import keras\n",
    "from tensorflow.keras import layers\n",
    "from keras.layers import Dropout\n",
    "from keras.models import Sequential\n",
    "from keras.layers import Dense\n",
    "from keras.layers import BatchNormalization\n",
    "\n",
    "%matplotlib inline\n",
    "InteractiveShell.ast_node_interactivity = \"all\"\n",
    "pd.set_option('display.max_rows', None)\n",
    "pd.set_option('display.max_columns', None)\n",
    "pd.set_option('display.width', None)\n",
    "pd.set_option('display.max_colwidth', None)\n",
    "warnings.filterwarnings('ignore')"
   ]
  },
  {
   "cell_type": "code",
   "execution_count": null,
   "metadata": {
    "id": "ZwvU-jI4kQHo"
   },
   "outputs": [],
   "source": [
    "target_names=['Non-Persistent', 'Persistent']"
   ]
  },
  {
   "cell_type": "markdown",
   "metadata": {
    "id": "XK_zvjh7kQHp"
   },
   "source": [
    "# Functions"
   ]
  },
  {
   "cell_type": "code",
   "execution_count": null,
   "metadata": {
    "id": "k_YuwlQvkQHq"
   },
   "outputs": [],
   "source": [
    "def evaluation_metrics(y_test, y_pre, target_names):\n",
    "    #scores\n",
    "    print(\"Accuracy :\",accuracy_score(y_test,y_pre))\n",
    "    print(\"Precision :\",precision_score(y_test,y_pre))\n",
    "    print(\"Recall :\",recall_score(y_test,y_pre))\n",
    "    print(\"F1 Score :\",f1_score(y_test,y_pre))\n",
    "\n",
    "    print(classification_report(y_test, y_pre, target_names=target_names))\n",
    "\n",
    "    #AUC\n",
    "    fpr, tpr, _ = roc_curve(y_test,  y_pre)\n",
    "    auc = roc_auc_score(y_test, y_pre)\n",
    "    print(\"AUC :\", auc)\n",
    "\n",
    "    #ROC\n",
    "    plt.plot(fpr,tpr,label=\"uc={:.3f})\".format(auc))\n",
    "    plt.plot([0, 1], [0, 1], 'k--')\n",
    "    plt.xlabel('False positive rate')\n",
    "    plt.ylabel('True positive rate')\n",
    "    plt.title('ROC curve')\n",
    "    plt.legend(loc=4)\n",
    "    plt.show()\n",
    "\n",
    "    #CM matrix\n",
    "    matrix = confusion_matrix(y_test, y_pre)\n",
    "    cm = pd.DataFrame(matrix, index=target_names, columns=target_names)\n",
    "\n",
    "    sns.heatmap(cm, annot=True, cbar=None, cmap=\"Blues\", fmt = 'g')\n",
    "    plt.title(\"Confusion Matrix\"), plt.tight_layout()\n",
    "    plt.ylabel(\"True Class\"), plt.xlabel(\"Predicted Class\")\n",
    "    plt.show()"
   ]
  },
  {
   "cell_type": "code",
   "execution_count": null,
   "metadata": {
    "id": "NajuB1M5kQHr"
   },
   "outputs": [],
   "source": [
    "def logistic(X_train,X_test,y_train,y_test):\n",
    "    model=LogisticRegression()\n",
    "    model.fit(X_train,y_train)\n",
    "    y_pre=model.predict(X_test)\n",
    "    evaluation_metrics(y_test, y_pre, target_names)"
   ]
  },
  {
   "cell_type": "code",
   "execution_count": null,
   "metadata": {
    "id": "aElAulPNkQHs"
   },
   "outputs": [],
   "source": [
    "def Ridge(X_train,X_test,y_train,y_test):\n",
    "    #train the model\n",
    "    model = RidgeClassifier(random_state=2)\n",
    "    model.fit(X_train, y_train)\n",
    "    #predictions\n",
    "    y_pre = model.predict(X_test)\n",
    "    evaluation_metrics(y_test, y_pre, target_names)\n",
    "  "
   ]
  },
  {
   "cell_type": "code",
   "execution_count": null,
   "metadata": {
    "id": "YgWJ3riTnonC"
   },
   "outputs": [],
   "source": [
    "def SGD(X_train,X_test,y_train,y_test):\n",
    "    #train the model\n",
    "    model = SGDClassifier()\n",
    "    model.fit(X_train, y_train)\n",
    "    #predictions\n",
    "    y_pre = model.predict(X_test)\n",
    "    evaluation_metrics(y_test, y_pre, target_names)"
   ]
  },
  {
   "cell_type": "code",
   "execution_count": null,
   "metadata": {
    "id": "xYrRRzGnor6I"
   },
   "outputs": [],
   "source": [
    "def XGBOOST(X_train,X_test,y_train,y_test):\n",
    "  #train the model\n",
    "  model = XGBClassifier(random_state=2)\n",
    "  model.fit(X_train, y_train)\n",
    "  #predictions\n",
    "  y_pre = model.predict(X_test)\n",
    "  evaluation_metrics(y_test, y_pre, target_names)"
   ]
  },
  {
   "cell_type": "code",
   "execution_count": null,
   "metadata": {
    "id": "BZy886LQpGxS"
   },
   "outputs": [],
   "source": [
    "def RF(X_train,X_test,y_train,y_test):\n",
    "  #train the model\n",
    "  model = RandomForestClassifier(random_state=2)\n",
    "  model.fit(X_train, y_train)\n",
    "  #predictions\n",
    "  y_pre = model.predict(X_test)\n",
    "  evaluation_metrics(y_test, y_pre, target_names)"
   ]
  },
  {
   "cell_type": "code",
   "execution_count": null,
   "metadata": {
    "id": "5HRdLJPJS_Ex"
   },
   "outputs": [],
   "source": [
    "def Bagging(X_train,X_test,y_train,y_test):\n",
    "  #train the model\n",
    "  model = BaggingClassifier(base_estimator=SVC(), n_estimators=10, random_state=0)\n",
    "  model.fit(X_train, y_train)\n",
    "  #predictions\n",
    "  y_pre = model.predict(X_test)\n",
    "  evaluation_metrics(y_test, y_pre, target_names)"
   ]
  },
  {
   "cell_type": "code",
   "execution_count": null,
   "metadata": {
    "id": "8kKrE_ElWk40"
   },
   "outputs": [],
   "source": [
    "def AdaBoost(X_train,X_test,y_train,y_test):\n",
    "  #train the model\n",
    "  model = AdaBoostClassifier(n_estimators=100, random_state=0)\n",
    "  model.fit(X_train, y_train)\n",
    "  #predictions\n",
    "  y_pre = model.predict(X_test)\n",
    "  evaluation_metrics(y_test, y_pre, target_names)"
   ]
  },
  {
   "cell_type": "code",
   "execution_count": null,
   "metadata": {
    "id": "Ut4zf6uBXH2b"
   },
   "outputs": [],
   "source": [
    "def ExtraTrees(X_train,X_test,y_train,y_test):\n",
    "  #train the model\n",
    "  model = ExtraTreesClassifier(n_estimators=100, random_state=0)\n",
    "  model.fit(X_train, y_train)\n",
    "  #predictions\n",
    "  y_pre = model.predict(X_test)\n",
    "  evaluation_metrics(y_test, y_pre, target_names)"
   ]
  },
  {
   "cell_type": "code",
   "execution_count": null,
   "metadata": {
    "id": "OIZ2Y5_PXQsF"
   },
   "outputs": [],
   "source": [
    "def GradientBoosting(X_train,X_test,y_train,y_test):\n",
    "  #train the model\n",
    "  model = GradientBoostingClassifier(n_estimators = 600, max_depth = 20, min_samples_split = 4,learning_rate = 0.01, criterion='mse')\n",
    "  model.fit(X_train, y_train)\n",
    "  #predictions\n",
    "  y_pre = model.predict(X_test)\n",
    "  evaluation_metrics(y_test, y_pre, target_names)"
   ]
  },
  {
   "cell_type": "code",
   "execution_count": null,
   "metadata": {
    "id": "CZCmylvaXbzi"
   },
   "outputs": [],
   "source": [
    "def Stacking(X_train,X_test,y_train,y_test):\n",
    "  #train the model\n",
    "  estimators = [('rf', RandomForestClassifier(n_estimators=10, random_state=42)), ('svr', make_pipeline(StandardScaler(), LinearSVC(random_state=42)))]\n",
    "  model = StackingClassifier(estimators=estimators, final_estimator=LogisticRegression())\n",
    "  model.fit(X_train, y_train)\n",
    "  #predictions\n",
    "  y_pre = model.predict(X_test)\n",
    "  evaluation_metrics(y_test, y_pre, target_names)"
   ]
  },
  {
   "cell_type": "code",
   "execution_count": null,
   "metadata": {
    "id": "0rcNg_1OxC7g"
   },
   "outputs": [],
   "source": [
    "def MLP(X_train,X_test,y_train,y_test):\n",
    "  #train the model\n",
    "  mlp = MLPClassifier(solver='lbfgs', hidden_layer_sizes=(100,100), random_state=2)\n",
    "  mlp.fit(X_train, y_train)\n",
    "  mlp.get_params(deep=True)\n",
    "  #predictions\n",
    "  y_pre = mlp.predict(X_test)\n",
    "  evaluation_metrics(y_test, y_pre, target_names)"
   ]
  },
  {
   "cell_type": "code",
   "execution_count": null,
   "metadata": {
    "id": "EWXMEsABx9Qo"
   },
   "outputs": [],
   "source": [
    "def MNN(X_train,X_test,y_train,y_test):\n",
    "  #train the model\n",
    "  model = Sequential()\n",
    "  model.add(Dense(32, input_shape=(X_train.shape[1],), activation='relu')),\n",
    "  model.add(Dropout(0.2)),\n",
    "  model.add(Dense(16, activation='relu')),\n",
    "  model.add(Dropout(0.2)),\n",
    "  model.add(Dense(8, activation='relu')),\n",
    "  model.add(Dropout(0.2)),\n",
    "  model.add(Dense(4, activation='relu')),\n",
    "  model.add(Dropout(0.2)),\n",
    "  model.add(Dense(1, activation='sigmoid'))\n",
    "\n",
    "  opt = tf.keras.optimizers.Adam(learning_rate=0.0001) #optimizer\n",
    "\n",
    "  model.compile(optimizer=opt, loss=tf.keras.losses.BinaryCrossentropy(), metrics=['accuracy']) #metrics\n",
    "\n",
    "  earlystopper = tf.keras.callbacks.EarlyStopping(monitor='val_accuracy', min_delta=0, patience=15, verbose=1, mode='auto', baseline=None, restore_best_weights=False)\n",
    "\n",
    "  history = model.fit(X_train.values, y_train.values, epochs = 150, batch_size=10, validation_split = 0.20, verbose = 1, callbacks = [earlystopper])\n",
    "  history_dict = history.history\n",
    "\n",
    "  loss_values = history_dict['loss']\n",
    "  val_loss_values=history_dict['val_loss']\n",
    "  plt.plot(loss_values,'b',label='training loss')\n",
    "  plt.plot(val_loss_values,'r',label='val training loss')\n",
    "  plt.legend()\n",
    "  plt.xlabel(\"Epochs\")\n",
    "  plt.show()  \n",
    "\n",
    "  accuracy_values = history_dict['accuracy']\n",
    "  val_accuracy_values=history_dict['val_accuracy']\n",
    "  plt.plot(val_accuracy_values,'-r',label='val_accuracy')\n",
    "  plt.plot(accuracy_values,'-b',label='accuracy')\n",
    "  plt.legend()\n",
    "  plt.xlabel(\"Epochs\")\n",
    "  plt.show()\n",
    "\n",
    "  #predictions\n",
    "  y_pre = model.predict_classes(X_test)\n",
    "\n",
    "  evaluation_metrics(y_test, y_pre, target_names)"
   ]
  },
  {
   "cell_type": "markdown",
   "metadata": {
    "id": "YOfWkOWykQHt"
   },
   "source": [
    "# Reading data"
   ]
  },
  {
   "cell_type": "code",
   "execution_count": null,
   "metadata": {
    "colab": {
     "base_uri": "https://localhost:8080/"
    },
    "id": "Ot7mk5qwmNGk",
    "outputId": "3d186102-a0e9-4bf9-9148-aab45954c8b8"
   },
   "outputs": [],
   "source": [
    "from google.colab import drive\n",
    "drive.mount('/content/drive')"
   ]
  },
  {
   "cell_type": "code",
   "execution_count": null,
   "metadata": {
    "id": "1e-a0oh9WuWm"
   },
   "outputs": [],
   "source": [
    "xls = pd.ExcelFile('dataset/Healthcare_dataset.xlsx')\n",
    "df= pd.read_excel(xls, 'Dataset')"
   ]
  },
  {
   "cell_type": "markdown",
   "metadata": {
    "id": "D9nzSWNgW8Z6"
   },
   "source": [
    "# **Data Understanding**"
   ]
  },
  {
   "cell_type": "code",
   "execution_count": null,
   "metadata": {
    "colab": {
     "base_uri": "https://localhost:8080/",
     "height": 0
    },
    "id": "yWvFA1utWnyE",
    "outputId": "3353ed68-a12d-404f-b4a3-7a98887e4492"
   },
   "outputs": [],
   "source": [
    "df.head()"
   ]
  },
  {
   "cell_type": "code",
   "execution_count": null,
   "metadata": {
    "colab": {
     "base_uri": "https://localhost:8080/"
    },
    "id": "0FMx3EEDXcKO",
    "outputId": "9a83cce3-f001-450f-c13f-8f46a2249015"
   },
   "outputs": [],
   "source": [
    "df.shape"
   ]
  },
  {
   "cell_type": "code",
   "execution_count": null,
   "metadata": {
    "colab": {
     "base_uri": "https://localhost:8080/"
    },
    "id": "Zsxp7axNYOeJ",
    "outputId": "4ff650f7-f564-47aa-d199-da1b5356444e"
   },
   "outputs": [],
   "source": [
    "df.dtypes"
   ]
  },
  {
   "cell_type": "code",
   "execution_count": null,
   "metadata": {
    "colab": {
     "base_uri": "https://localhost:8080/"
    },
    "id": "96QHQ5_MYRtV",
    "outputId": "3008363f-fd8a-4060-c2f6-ed6fce56e60b"
   },
   "outputs": [],
   "source": [
    "df.info()"
   ]
  },
  {
   "cell_type": "code",
   "execution_count": null,
   "metadata": {
    "id": "jDHPr1VkY0jt"
   },
   "outputs": [],
   "source": [
    "df.columns=[x.lower() for x in df.columns]"
   ]
  },
  {
   "cell_type": "markdown",
   "metadata": {
    "id": "xAp-9rPYZ2nS"
   },
   "source": [
    "### **Analyzing dependency of variable (Before Transformation)**"
   ]
  },
  {
   "cell_type": "code",
   "execution_count": null,
   "metadata": {
    "colab": {
     "base_uri": "https://localhost:8080/"
    },
    "id": "TeL0hfhsZ-S4",
    "outputId": "9e0d9211-268e-4986-8f81-18da902eb5de"
   },
   "outputs": [],
   "source": [
    "classes=df['persistency_flag'].value_counts()\n",
    "normal_share=round(classes[0]/df['persistency_flag'].count()*100,2)\n",
    "fraud_share=round(classes[1]/df['persistency_flag'].count()*100, 2)\n",
    "print(\"Non-Persistent : {} %\".format(normal_share))\n",
    "print(\"Persistent : {} %\".format(fraud_share))"
   ]
  },
  {
   "cell_type": "code",
   "execution_count": null,
   "metadata": {
    "colab": {
     "base_uri": "https://localhost:8080/",
     "height": 0
    },
    "id": "DvHRlba-brI_",
    "outputId": "042feb89-9f62-442a-e88e-4428824888d2"
   },
   "outputs": [],
   "source": [
    "cat_corr = df.apply(lambda x : pd.factorize(x)[0]).corr(method='pearson', min_periods=1)[['persistency_flag']]\n",
    "np.abs(cat_corr).sort_values(by=['persistency_flag'], ascending=False)"
   ]
  },
  {
   "cell_type": "markdown",
   "metadata": {
    "id": "jehqZ63CZUrc"
   },
   "source": [
    "## **Missing Values**"
   ]
  },
  {
   "cell_type": "code",
   "execution_count": null,
   "metadata": {
    "colab": {
     "base_uri": "https://localhost:8080/"
    },
    "id": "l76QlvIPZeOR",
    "outputId": "3afa1826-cc02-4dea-e90c-f70398c6e69f",
    "scrolled": true
   },
   "outputs": [],
   "source": [
    "\n",
    "df.isnull().sum()"
   ]
  },
  {
   "cell_type": "markdown",
   "metadata": {
    "id": "Q1ltwgCtZgeG"
   },
   "source": [
    "## **Outlier Analysis**"
   ]
  },
  {
   "cell_type": "code",
   "execution_count": null,
   "metadata": {
    "colab": {
     "base_uri": "https://localhost:8080/",
     "height": 0
    },
    "id": "m3r2jlxjc9XL",
    "outputId": "d64ce2e9-ab11-46e1-f18b-fdb0c711d551"
   },
   "outputs": [],
   "source": [
    "fig = px.histogram(df, x=\"dexa_freq_during_rx\",\n",
    "                   marginal=\"box\", # or violin, rug\n",
    "                   hover_data=df.columns)\n",
    "fig.show()"
   ]
  },
  {
   "cell_type": "code",
   "execution_count": null,
   "metadata": {
    "colab": {
     "base_uri": "https://localhost:8080/",
     "height": 0
    },
    "id": "cwtoWQ58dFEo",
    "outputId": "3ee244e0-3df3-46a3-a990-3dc782c48c01"
   },
   "outputs": [],
   "source": [
    "fig = px.histogram(df, x=\"count_of_risks\",\n",
    "                   marginal=\"box\", # or violin, rug\n",
    "                   hover_data=df.columns)\n",
    "fig.show()"
   ]
  },
  {
   "cell_type": "code",
   "execution_count": null,
   "metadata": {
    "colab": {
     "base_uri": "https://localhost:8080/",
     "height": 0
    },
    "id": "F09jzB8AfsCl",
    "outputId": "1773ef85-a0a3-49dc-d5a6-d83e291a1116"
   },
   "outputs": [],
   "source": [
    "plt.figure(figsize=(20,10))\n",
    "var =\"count_of_risks\"\n",
    "sns.boxplot(x=var,y =\"persistency_flag\",data=df)"
   ]
  },
  {
   "cell_type": "code",
   "execution_count": null,
   "metadata": {
    "colab": {
     "base_uri": "https://localhost:8080/",
     "height": 0
    },
    "id": "wwPE5l0aghLu",
    "outputId": "2d8e8dd8-fc48-49f9-d85c-f3d4d894d084"
   },
   "outputs": [],
   "source": [
    "plt.figure(figsize=(20,10))\n",
    "var =\"dexa_freq_during_rx\"\n",
    "sns.boxplot(x=var,y =\"persistency_flag\",data=df)"
   ]
  },
  {
   "cell_type": "code",
   "execution_count": null,
   "metadata": {
    "colab": {
     "base_uri": "https://localhost:8080/"
    },
    "id": "j58W6QHbgxSq",
    "outputId": "e974e4c2-8816-4ac9-c6e9-d4ab41607478"
   },
   "outputs": [],
   "source": [
    "print(\"Count of risks skweness: \",df[\"count_of_risks\"].skew())\n",
    "print(\"Count of risks Kurtosis: \",df[\"count_of_risks\"].kurt())\n",
    "\n",
    "## Data shows a moderate positive skewed data on this column and fairly platykurtic\n",
    "## Means the data has little outliers"
   ]
  },
  {
   "cell_type": "code",
   "execution_count": null,
   "metadata": {
    "colab": {
     "base_uri": "https://localhost:8080/"
    },
    "id": "wkBZVarzg_AS",
    "outputId": "92e9ff6c-d8cb-44eb-89d5-cd631454d0c5"
   },
   "outputs": [],
   "source": [
    "print(\"dexa_freq_during_rx skweness: \",df[\"dexa_freq_during_rx\"].skew())\n",
    "print(\"dexa_freq_during_rx Kurtosis: \",df[\"dexa_freq_during_rx\"].kurt())\n",
    "## very high positive skewed and also with very high kurtosis(Platykurtic)\n",
    "## This suggests Presence of alot of outliers."
   ]
  },
  {
   "cell_type": "code",
   "execution_count": null,
   "metadata": {
    "colab": {
     "base_uri": "https://localhost:8080/"
    },
    "id": "AfQS9WsWhOL0",
    "outputId": "e9197491-ad71-4283-d33c-4ebd00b4b12e"
   },
   "outputs": [],
   "source": [
    "#standardizing dexa_freq_during_rx df\n",
    "dexa_scaled = StandardScaler().fit_transform(df['dexa_freq_during_rx'][:,np.newaxis]);\n",
    "low_range = dexa_scaled[dexa_scaled[:,0].argsort()][:10]\n",
    "high_range= dexa_scaled[dexa_scaled[:,0].argsort()][-10:]\n",
    "print('outer range (low) of the distribution:')\n",
    "print(low_range)\n",
    "print('\\nouter range (high) of the distribution:')\n",
    "print(high_range)"
   ]
  },
  {
   "cell_type": "code",
   "execution_count": null,
   "metadata": {
    "id": "IxG_xm7ckiXS"
   },
   "outputs": [],
   "source": [
    "scaler = RobustScaler()\n",
    "df['dexa_freq_during_rx'] = scaler.fit_transform(df['dexa_freq_during_rx'].values.reshape(-1,1))"
   ]
  },
  {
   "cell_type": "code",
   "execution_count": null,
   "metadata": {
    "id": "lsT1IiD0kfOR"
   },
   "outputs": [],
   "source": [
    "scaler = RobustScaler()\n",
    "df['count_of_risks'] = scaler.fit_transform(df['count_of_risks'].values.reshape(-1,1))"
   ]
  },
  {
   "cell_type": "code",
   "execution_count": null,
   "metadata": {
    "colab": {
     "base_uri": "https://localhost:8080/",
     "height": 0
    },
    "id": "uycGDi7KhrC7",
    "outputId": "2865ab9e-b374-419e-d1f7-4d70fafeab47"
   },
   "outputs": [],
   "source": [
    "''' Detection '''\n",
    "# IQR\n",
    "Q1 = np.percentile(df['dexa_freq_during_rx'], 25, \n",
    "                   interpolation = 'midpoint') \n",
    "  \n",
    "Q3 = np.percentile(df['dexa_freq_during_rx'], 75,\n",
    "                   interpolation = 'midpoint') \n",
    "IQR = Q3 - Q1 \n",
    "  \n",
    "print(\"Old Shape: \", df.shape) \n",
    "  \n",
    "# Upper bound\n",
    "upper = np.where(df['dexa_freq_during_rx'] >= (Q3+1.5*IQR))\n",
    "# Lower bound\n",
    "lower = np.where(df['dexa_freq_during_rx'] <= (Q1-1.5*IQR))\n",
    "  \n",
    "print(\"lower\",lower[0])\n",
    "print(\"Upper\",upper[0])\n",
    "\n",
    "''' Removing the Outliers '''\n",
    "df.drop(upper[0], inplace = True)\n",
    "df.drop(lower[0], inplace = True)\n",
    "\n",
    "print(\"New Shape: \", df.shape)\n",
    "\n",
    "df = df.reset_index(drop=True)"
   ]
  },
  {
   "cell_type": "code",
   "execution_count": null,
   "metadata": {
    "colab": {
     "base_uri": "https://localhost:8080/",
     "height": 0
    },
    "id": "fxsu1kgEkczQ",
    "outputId": "140d1294-5899-472f-a554-eedc459db0c8"
   },
   "outputs": [],
   "source": [
    "''' Detection '''\n",
    "# IQR\n",
    "Q1 = np.percentile(df['count_of_risks'], 25, \n",
    "                   interpolation = 'midpoint') \n",
    "  \n",
    "Q3 = np.percentile(df['count_of_risks'], 75,\n",
    "                   interpolation = 'midpoint') \n",
    "IQR = Q3 - Q1 \n",
    "  \n",
    "print(\"Old Shape: \", df.shape) \n",
    "  \n",
    "# Upper bound\n",
    "upper = np.where(df['count_of_risks'] >= (Q3+1.5*IQR))\n",
    "# Lower bound\n",
    "lower = np.where(df['count_of_risks'] <= (Q1-1.5*IQR))\n",
    "  \n",
    "print(\"lower\",lower[0])\n",
    "print(\"Upper\",upper[0])\n",
    "\n",
    "''' Removing the Outliers '''\n",
    "df.drop(upper[0], inplace = True)\n",
    "df.drop(lower[0], inplace = True)\n",
    "\n",
    "print(\"New Shape: \", df.shape) \n",
    "\n",
    "df = df.reset_index(drop=True)"
   ]
  },
  {
   "cell_type": "markdown",
   "metadata": {
    "id": "JHghpr4un2OC"
   },
   "source": [
    "## **Describe Data**"
   ]
  },
  {
   "cell_type": "code",
   "execution_count": null,
   "metadata": {
    "colab": {
     "base_uri": "https://localhost:8080/",
     "height": 0
    },
    "id": "ZjZLBeAzn9f6",
    "outputId": "680521dd-cae8-4c32-8a7d-e7fe51dae99f"
   },
   "outputs": [],
   "source": [
    "#distribution of categorical features\n",
    "df.describe(include=['O'])"
   ]
  },
  {
   "cell_type": "code",
   "execution_count": null,
   "metadata": {
    "colab": {
     "base_uri": "https://localhost:8080/",
     "height": 0
    },
    "id": "5AtWnnPboEdc",
    "outputId": "9376bd8f-0803-492a-efd0-f641f1e68d78"
   },
   "outputs": [],
   "source": [
    "df.groupby(['persistency_flag']).mean().T"
   ]
  },
  {
   "cell_type": "code",
   "execution_count": null,
   "metadata": {
    "colab": {
     "base_uri": "https://localhost:8080/",
     "height": 0
    },
    "id": "LWvhzbzFoV2q",
    "outputId": "6ec27af5-5a31-4438-aa47-b89b88c15eb9"
   },
   "outputs": [],
   "source": [
    "df.groupby(['gender']).mean().T"
   ]
  },
  {
   "cell_type": "code",
   "execution_count": null,
   "metadata": {
    "colab": {
     "base_uri": "https://localhost:8080/",
     "height": 0
    },
    "id": "OPV-BDIUoo4a",
    "outputId": "41840baa-89c5-4b3b-fbbd-bbe3aace6838"
   },
   "outputs": [],
   "source": [
    "df.groupby(['race']).mean()"
   ]
  },
  {
   "cell_type": "code",
   "execution_count": null,
   "metadata": {
    "colab": {
     "base_uri": "https://localhost:8080/",
     "height": 0
    },
    "id": "GTZyooAfo5ES",
    "outputId": "0a648624-926e-4a2b-e0df-7fa02dc3f302"
   },
   "outputs": [],
   "source": [
    "df.groupby(['ethnicity']).mean().T"
   ]
  },
  {
   "cell_type": "code",
   "execution_count": null,
   "metadata": {
    "colab": {
     "base_uri": "https://localhost:8080/",
     "height": 0
    },
    "id": "HvMetblYo_fS",
    "outputId": "fd66def4-1215-40d0-8eb5-433c1d0e0a62"
   },
   "outputs": [],
   "source": [
    "df.groupby(['age_bucket']).mean().T"
   ]
  },
  {
   "cell_type": "code",
   "execution_count": null,
   "metadata": {
    "colab": {
     "base_uri": "https://localhost:8080/",
     "height": 0
    },
    "id": "8ht9BhiYpFhg",
    "outputId": "0ccea7bf-6d9a-44a8-9d79-32a6b5a311f7"
   },
   "outputs": [],
   "source": [
    "df.groupby(['ntm_speciality']).mean().T"
   ]
  },
  {
   "cell_type": "code",
   "execution_count": null,
   "metadata": {
    "colab": {
     "base_uri": "https://localhost:8080/",
     "height": 0
    },
    "id": "yogWu4aopLqZ",
    "outputId": "70ee4f10-f2bf-41a3-e833-055b2affe55e"
   },
   "outputs": [],
   "source": [
    "df.groupby(['ntm_specialist_flag']).mean().T"
   ]
  },
  {
   "cell_type": "code",
   "execution_count": null,
   "metadata": {
    "colab": {
     "base_uri": "https://localhost:8080/",
     "height": 0
    },
    "id": "mwYPrLeNpRsw",
    "outputId": "4385b3d2-fb33-45f9-91f4-6534a9f14d0b"
   },
   "outputs": [],
   "source": [
    "df.groupby(['ntm_speciality_bucket']).mean().T"
   ]
  },
  {
   "cell_type": "code",
   "execution_count": null,
   "metadata": {
    "colab": {
     "base_uri": "https://localhost:8080/",
     "height": 0
    },
    "id": "JI2XC1jupZcV",
    "outputId": "8bce42fd-058f-40cc-d9cf-1531786c9a00"
   },
   "outputs": [],
   "source": [
    "df.groupby(['ntm_speciality_bucket']).mean().T"
   ]
  },
  {
   "cell_type": "code",
   "execution_count": null,
   "metadata": {
    "colab": {
     "base_uri": "https://localhost:8080/",
     "height": 0
    },
    "id": "bYZjcHPQpey1",
    "outputId": "51536ce1-1ecd-4e59-dc13-2bf45f87881d"
   },
   "outputs": [],
   "source": [
    "df.groupby(['risk_chronic_liver_disease']).mean().T"
   ]
  },
  {
   "cell_type": "code",
   "execution_count": null,
   "metadata": {
    "colab": {
     "base_uri": "https://localhost:8080/",
     "height": 0
    },
    "id": "9BeMUGmfpl6_",
    "outputId": "7053a264-afd9-4f3d-8339-7ff8c3ee8fa1"
   },
   "outputs": [],
   "source": [
    "df.groupby(['risk_family_history_of_osteoporosis']).mean().T"
   ]
  },
  {
   "cell_type": "code",
   "execution_count": null,
   "metadata": {
    "colab": {
     "base_uri": "https://localhost:8080/",
     "height": 0
    },
    "id": "w6qJK8ajpttd",
    "outputId": "ebd69ce1-515c-4117-9bea-3f1b262b10d5"
   },
   "outputs": [],
   "source": [
    "df.groupby(['risk_low_calcium_intake']).mean().T"
   ]
  },
  {
   "cell_type": "code",
   "execution_count": null,
   "metadata": {
    "colab": {
     "base_uri": "https://localhost:8080/",
     "height": 0
    },
    "id": "kjV5W-O0qYGf",
    "outputId": "868790cd-99ea-4e77-d16c-0cfafae108c1"
   },
   "outputs": [],
   "source": [
    "df.groupby(['risk_vitamin_d_insufficiency']).mean().T"
   ]
  },
  {
   "cell_type": "code",
   "execution_count": null,
   "metadata": {
    "colab": {
     "base_uri": "https://localhost:8080/",
     "height": 0
    },
    "id": "JDG3LfeZq6jA",
    "outputId": "b8debe78-e4a0-40e6-c919-cdeb7f119096"
   },
   "outputs": [],
   "source": [
    "df.groupby(['risk_excessive_thinness']).mean().T"
   ]
  },
  {
   "cell_type": "code",
   "execution_count": null,
   "metadata": {
    "colab": {
     "base_uri": "https://localhost:8080/",
     "height": 0
    },
    "id": "DO1aAeGorEOr",
    "outputId": "f9e15f3b-a872-4e1d-aed5-311ab1608cc3"
   },
   "outputs": [],
   "source": [
    "df.groupby(['risk_hysterectomy_oophorectomy']).mean().T"
   ]
  },
  {
   "cell_type": "code",
   "execution_count": null,
   "metadata": {
    "colab": {
     "base_uri": "https://localhost:8080/",
     "height": 0
    },
    "id": "8h5e7RXHrNW9",
    "outputId": "556fa2e2-218e-4f8a-bfd1-324bde6538b8"
   },
   "outputs": [],
   "source": [
    "df.groupby(['risk_estrogen_deficiency']).mean().T"
   ]
  },
  {
   "cell_type": "code",
   "execution_count": null,
   "metadata": {
    "colab": {
     "base_uri": "https://localhost:8080/",
     "height": 0
    },
    "id": "j-PPGCb9rWEt",
    "outputId": "6fa878e2-3f97-434c-9ad3-e0bfcb3ffc13"
   },
   "outputs": [],
   "source": [
    "df.groupby(['risk_immobilization']).mean().T"
   ]
  },
  {
   "cell_type": "code",
   "execution_count": null,
   "metadata": {
    "colab": {
     "base_uri": "https://localhost:8080/",
     "height": 0
    },
    "id": "flbWN6ynrdcQ",
    "outputId": "10657ba7-b272-41ee-ca9b-3ed182fed391"
   },
   "outputs": [],
   "source": [
    "\n",
    "df.groupby(['risk_recurring_falls']).mean().T"
   ]
  },
  {
   "cell_type": "markdown",
   "metadata": {
    "id": "vsItTHTSlHJ-"
   },
   "source": [
    "# **Data Wrangling , Transformation and Standardization**"
   ]
  },
  {
   "cell_type": "code",
   "execution_count": null,
   "metadata": {
    "id": "u9HBL3_-lGjG"
   },
   "outputs": [],
   "source": [
    "df = df.drop(['ptid'], axis=1)"
   ]
  },
  {
   "cell_type": "code",
   "execution_count": null,
   "metadata": {
    "id": "MNw8jcuVlgkB"
   },
   "outputs": [],
   "source": [
    "mapper = {'N': 0, 'Y':1}\n",
    "df = df.replace(mapper)"
   ]
  },
  {
   "cell_type": "code",
   "execution_count": null,
   "metadata": {
    "colab": {
     "base_uri": "https://localhost:8080/",
     "height": 309
    },
    "id": "2-W7_-Ch9R0g",
    "outputId": "732161d9-e76a-4775-ea40-38e21099d641"
   },
   "outputs": [],
   "source": [
    "df['persistency_flag'] = df['persistency_flag'].replace(['Non-Persistent', 'Persistent'],[0, 1])\n",
    "df.head()"
   ]
  },
  {
   "cell_type": "markdown",
   "metadata": {
    "id": "iK_0WG3vMYU7"
   },
   "source": [
    "### **Analyzing dependency of variable (After Transformation)**"
   ]
  },
  {
   "cell_type": "code",
   "execution_count": null,
   "metadata": {
    "colab": {
     "base_uri": "https://localhost:8080/",
     "height": 1000
    },
    "id": "9tKnJ6DHMfgJ",
    "outputId": "180478b8-b03e-477f-e558-667c617cc8bd"
   },
   "outputs": [],
   "source": [
    "np.abs(df.corr()).sort_values(by=['persistency_flag'], ascending=False)"
   ]
  },
  {
   "cell_type": "code",
   "execution_count": null,
   "metadata": {
    "colab": {
     "base_uri": "https://localhost:8080/",
     "height": 986
    },
    "id": "P5f2YVmoL7DB",
    "outputId": "4de0fd92-d236-4c1f-e1e6-65dd34db55fe"
   },
   "outputs": [],
   "source": [
    "plt.subplots(figsize=(15,10))\n",
    "sns.heatmap(df.corr())"
   ]
  },
  {
   "cell_type": "markdown",
   "metadata": {
    "id": "wawSDRsyrTrb"
   },
   "source": [
    "### *Creating Dummy values*"
   ]
  },
  {
   "cell_type": "code",
   "execution_count": null,
   "metadata": {
    "id": "O8v74m3gpQ-S"
   },
   "outputs": [],
   "source": [
    "X=df.drop(['persistency_flag'],axis=1)\n",
    "y=df['persistency_flag']\n",
    "\n",
    "X = pd.get_dummies(X)\n",
    "X.columns=[x.lower() for x in X.columns]\n",
    "X_train,X_test,y_train,y_test=train_test_split(X,y,random_state=42,test_size=0.3, stratify=y)"
   ]
  },
  {
   "cell_type": "code",
   "execution_count": null,
   "metadata": {
    "colab": {
     "base_uri": "https://localhost:8080/",
     "height": 258
    },
    "id": "UzEJQ-pvqMtY",
    "outputId": "4db6f8ec-e04c-471d-e49e-13b3e307e557"
   },
   "outputs": [],
   "source": [
    "df_train = X_train.copy()\n",
    "df_train['persistency_flag'] = y_train\n",
    "df_train.head()"
   ]
  },
  {
   "cell_type": "markdown",
   "metadata": {
    "id": "GtdInFivrMaW"
   },
   "source": [
    "### *Come Imbalanced dataset*"
   ]
  },
  {
   "cell_type": "code",
   "execution_count": null,
   "metadata": {
    "colab": {
     "base_uri": "https://localhost:8080/"
    },
    "id": "icUAwg3aqUVg",
    "outputId": "09cadab5-6135-4076-d4e5-2b7bfdd60633"
   },
   "outputs": [],
   "source": [
    "classes=df_train['persistency_flag'].value_counts()\n",
    "normal_share=round(classes[0]/df_train['persistency_flag'].count()*100,2)\n",
    "fraud_share=round(classes[1]/df_train['persistency_flag'].count()*100, 2)\n",
    "print(\"Non-Persistent : {} %\".format(normal_share))\n",
    "print(\"Persistent : {} %\".format(fraud_share))"
   ]
  },
  {
   "cell_type": "code",
   "execution_count": null,
   "metadata": {
    "colab": {
     "base_uri": "https://localhost:8080/",
     "height": 542
    },
    "id": "h_lzkHBMqbCr",
    "outputId": "c699ee71-cf04-4853-e24e-e010026db858"
   },
   "outputs": [],
   "source": [
    "fig = px.histogram(df_train, x=\"persistency_flag\", color=\"persistency_flag\", title=\"Persistent class histogram\")\n",
    "fig.show()"
   ]
  },
  {
   "cell_type": "markdown",
   "metadata": {
    "id": "NIzp9jmLrGXm"
   },
   "source": [
    "### *Upsampling*"
   ]
  },
  {
   "cell_type": "code",
   "execution_count": null,
   "metadata": {
    "colab": {
     "base_uri": "https://localhost:8080/"
    },
    "id": "oIMRADpXqkl1",
    "outputId": "90310040-bb0e-466f-d467-c47907ee5676"
   },
   "outputs": [],
   "source": [
    "# Upsampling\n",
    "df_minority_upsampled = resample(df_train[df_train['persistency_flag'] == 1], \n",
    "                                 replace=True,     # sample with replacement\n",
    "                                 n_samples=len(df_train[df_train['persistency_flag'] == 0]),    # to match majority class\n",
    "                                 random_state=123) # reproducible results\n",
    " \n",
    "# Combine majority class with upsampled minority class\n",
    "df_train = pd.concat([df_train[df_train['persistency_flag'] == 0], df_minority_upsampled])\n",
    " \n",
    "# Display new class counts\n",
    "df_train.persistency_flag.value_counts()"
   ]
  },
  {
   "cell_type": "code",
   "execution_count": null,
   "metadata": {
    "id": "3EZ69_Kqqy22"
   },
   "outputs": [],
   "source": [
    "X_train=df_train.drop(['persistency_flag'],axis=1)\n",
    "y_train=df_train['persistency_flag']"
   ]
  },
  {
   "cell_type": "code",
   "execution_count": null,
   "metadata": {
    "colab": {
     "base_uri": "https://localhost:8080/",
     "height": 542
    },
    "id": "0LVjpIeWq5_E",
    "outputId": "ffb1c787-8f42-47f5-8f76-c6eed4d190e8"
   },
   "outputs": [],
   "source": [
    "fig = px.histogram(df_train, x=\"persistency_flag\", color=\"persistency_flag\", title=\"Persistent class histogram\")\n",
    "fig.show()"
   ]
  },
  {
   "cell_type": "markdown",
   "metadata": {
    "id": "JNOhKTK5uD_2"
   },
   "source": [
    "# **Model Creation**"
   ]
  },
  {
   "cell_type": "markdown",
   "metadata": {
    "id": "Ci9HVpXHuT5B"
   },
   "source": [
    "## **Linear Models**"
   ]
  },
  {
   "cell_type": "markdown",
   "metadata": {
    "id": "3YSxggt4n2k6"
   },
   "source": [
    "### LogisticRegression"
   ]
  },
  {
   "cell_type": "code",
   "execution_count": null,
   "metadata": {
    "colab": {
     "base_uri": "https://localhost:8080/",
     "height": 827
    },
    "id": "IsYlDaZxkQKT",
    "outputId": "8e1cdaab-9dd6-4733-b137-6b1344d9885f"
   },
   "outputs": [],
   "source": [
    "logistic(X_train,X_test,y_train,y_test)"
   ]
  },
  {
   "cell_type": "markdown",
   "metadata": {
    "id": "tck_vaYVn-5m"
   },
   "source": [
    "### RidgeClassifier"
   ]
  },
  {
   "cell_type": "code",
   "execution_count": null,
   "metadata": {
    "colab": {
     "base_uri": "https://localhost:8080/",
     "height": 827
    },
    "id": "gW0a4yCampnJ",
    "outputId": "aaaaa98c-c2a2-4962-9edb-16aa2600433c"
   },
   "outputs": [],
   "source": [
    "Ridge(X_train,X_test,y_train,y_test)"
   ]
  },
  {
   "cell_type": "markdown",
   "metadata": {
    "id": "uWVc-Ww7oKwL"
   },
   "source": [
    "### SGDClassifier"
   ]
  },
  {
   "cell_type": "code",
   "execution_count": null,
   "metadata": {
    "colab": {
     "base_uri": "https://localhost:8080/",
     "height": 827
    },
    "id": "Wv-4wykzm1IG",
    "outputId": "13116784-0a9d-4d81-b348-cea9b40b30de"
   },
   "outputs": [],
   "source": [
    "SGD(X_train,X_test,y_train,y_test)"
   ]
  },
  {
   "cell_type": "markdown",
   "metadata": {
    "id": "nTIH_OAzkQKU"
   },
   "source": [
    "## **Ensemble and Boosting Models**"
   ]
  },
  {
   "cell_type": "markdown",
   "metadata": {
    "id": "y3IoL-MpoeOw"
   },
   "source": [
    "### RandomForestClassifier"
   ]
  },
  {
   "cell_type": "code",
   "execution_count": null,
   "metadata": {
    "colab": {
     "base_uri": "https://localhost:8080/",
     "height": 827
    },
    "id": "HAc5oFwzozCJ",
    "outputId": "e400cb63-0058-4cb4-9323-6de094c0b1d2"
   },
   "outputs": [],
   "source": [
    "RF(X_train,X_test,y_train,y_test)"
   ]
  },
  {
   "cell_type": "markdown",
   "metadata": {
    "id": "QKBiozY0S4xN"
   },
   "source": [
    "### BaggingClassifier"
   ]
  },
  {
   "cell_type": "code",
   "execution_count": null,
   "metadata": {
    "colab": {
     "base_uri": "https://localhost:8080/",
     "height": 827
    },
    "id": "f5jUUv-mStyB",
    "outputId": "313a9136-e91f-4407-d1ee-622e63fa5610"
   },
   "outputs": [],
   "source": [
    "Bagging(X_train,X_test,y_train,y_test)"
   ]
  },
  {
   "cell_type": "markdown",
   "metadata": {
    "id": "Ea8QmaQZWId2"
   },
   "source": [
    "### AdaBoostClassifier"
   ]
  },
  {
   "cell_type": "code",
   "execution_count": null,
   "metadata": {
    "colab": {
     "base_uri": "https://localhost:8080/",
     "height": 827
    },
    "id": "QXr2C6RxWId3",
    "outputId": "f542ce82-80da-436e-bf12-e1fe521a6322"
   },
   "outputs": [],
   "source": [
    "AdaBoost(X_train,X_test,y_train,y_test)"
   ]
  },
  {
   "cell_type": "markdown",
   "metadata": {
    "id": "QnZ-ZCcCWzQo"
   },
   "source": [
    "### ExtraTreesClassifier"
   ]
  },
  {
   "cell_type": "code",
   "execution_count": null,
   "metadata": {
    "colab": {
     "base_uri": "https://localhost:8080/",
     "height": 827
    },
    "id": "BIUzfxdCWzQp",
    "outputId": "2864f1d3-1659-4fb5-9887-5e587599cf64"
   },
   "outputs": [],
   "source": [
    "ExtraTrees(X_train,X_test,y_train,y_test)"
   ]
  },
  {
   "cell_type": "markdown",
   "metadata": {
    "id": "ZXaIQPiDY6Wz"
   },
   "source": [
    "### GradientBoostingClassifier"
   ]
  },
  {
   "cell_type": "code",
   "execution_count": null,
   "metadata": {
    "colab": {
     "base_uri": "https://localhost:8080/",
     "height": 827
    },
    "id": "dRx92jehY6Xb",
    "outputId": "70cdca66-e1c8-4ba0-d0c5-efca2366e8b8"
   },
   "outputs": [],
   "source": [
    "GradientBoosting(X_train,X_test,y_train,y_test)"
   ]
  },
  {
   "cell_type": "markdown",
   "metadata": {
    "id": "BXJepAnWY_rn"
   },
   "source": [
    "### StackingClassifier"
   ]
  },
  {
   "cell_type": "code",
   "execution_count": null,
   "metadata": {
    "colab": {
     "base_uri": "https://localhost:8080/",
     "height": 827
    },
    "id": "DFjzfTb1Y_rn",
    "outputId": "3f86d2dd-cf8e-414c-a3cc-2e118431697e"
   },
   "outputs": [],
   "source": [
    "Stacking(X_train,X_test,y_train,y_test)"
   ]
  },
  {
   "cell_type": "markdown",
   "metadata": {
    "id": "Slty-t9bo8iq"
   },
   "source": [
    "### XGBoostClassifier"
   ]
  },
  {
   "cell_type": "code",
   "execution_count": null,
   "metadata": {
    "colab": {
     "base_uri": "https://localhost:8080/",
     "height": 827
    },
    "id": "XtCbXLuJpDse",
    "outputId": "0bc8be21-d7d1-4a96-e52a-05554a690e3a"
   },
   "outputs": [],
   "source": [
    "XGBOOST(X_train.values,X_test.values,y_train,y_test)"
   ]
  },
  {
   "cell_type": "markdown",
   "metadata": {
    "id": "OA9gFQ6schJW"
   },
   "source": [
    "# **Neural Network**"
   ]
  },
  {
   "cell_type": "markdown",
   "metadata": {
    "id": "7aJF5wcmw8I0"
   },
   "source": [
    "## Multi Layer Perceptron"
   ]
  },
  {
   "cell_type": "code",
   "execution_count": null,
   "metadata": {
    "colab": {
     "base_uri": "https://localhost:8080/",
     "height": 827
    },
    "id": "IcXvAEcSw9E5",
    "outputId": "cda82987-573f-4acd-fcbf-83dfa1b14f6a"
   },
   "outputs": [],
   "source": [
    "MLP(X_train,X_test,y_train,y_test)"
   ]
  },
  {
   "cell_type": "markdown",
   "metadata": {
    "id": "PWK6zHvLxpr9"
   },
   "source": [
    "## Multilayer Neural Network with Tensorflow/Keras"
   ]
  },
  {
   "cell_type": "code",
   "execution_count": null,
   "metadata": {
    "colab": {
     "base_uri": "https://localhost:8080/",
     "height": 1000
    },
    "id": "ua6a4kUjx4zk",
    "outputId": "9f8e194f-072e-4196-93a1-761381bca51d"
   },
   "outputs": [],
   "source": [
    "MNN(X_train,X_test,y_train,y_test)"
   ]
  },
  {
   "cell_type": "markdown",
   "metadata": {
    "id": "rVZeSt7WagEG"
   },
   "source": [
    "# Conclusion"
   ]
  },
  {
   "cell_type": "markdown",
   "metadata": {
    "id": "CndMSYCjajN2"
   },
   "source": [
    "Approximately all the classifiers have same result, but three of them are the bests and their result are so close to each other:\n",
    "\n",
    "\n",
    "*   RidgeClassifier (Linear)\n",
    "*   AdaBoostClassifier (Ensemble/Boosting)\n",
    "*   XGBoostClassifier (Ensemble/Boosting)\n",
    "\n",
    "They have aroun 81% Accuracy, 68% Precision, 71% Recall, 70% F1 Score, 78% AUC.\n",
    "We can also see the results for each classifier as well.\n",
    "\n"
   ]
  },
  {
   "cell_type": "markdown",
   "metadata": {},
   "source": [
    "## Training the final model"
   ]
  },
  {
   "cell_type": "code",
   "execution_count": null,
   "metadata": {},
   "outputs": [],
   "source": [
    "###Stacking classifier\n",
    "import pickle\n",
    "estimators = [('rf', RandomForestClassifier(n_estimators=10, random_state=42)), ('svr', make_pipeline(StandardScaler(), LinearSVC(random_state=42)))]\n",
    "final_model = StackingClassifier(estimators=estimators, final_estimator=LogisticRegression())\n",
    "final_model.fit(X, y)\n",
    "filename = 'final_model.sav'\n",
    "pickle.dump(final_model, open(filename, 'wb'))"
   ]
  }
 ],
 "metadata": {
  "colab": {
   "collapsed_sections": [
    "r8ptD-gV-m8k",
    "YOfWkOWykQHt",
    "D9nzSWNgW8Z6",
    "xAp-9rPYZ2nS",
    "jehqZ63CZUrc",
    "Q1ltwgCtZgeG",
    "JHghpr4un2OC",
    "iK_0WG3vMYU7"
   ],
   "name": "Integration_20211105.ipynb",
   "provenance": []
  },
  "kernelspec": {
   "display_name": "Python 3",
   "language": "python",
   "name": "python3"
  },
  "language_info": {
   "codemirror_mode": {
    "name": "ipython",
    "version": 3
   },
   "file_extension": ".py",
   "mimetype": "text/x-python",
   "name": "python",
   "nbconvert_exporter": "python",
   "pygments_lexer": "ipython3",
   "version": "3.8.8"
  },
  "toc": {
   "base_numbering": 1,
   "nav_menu": {},
   "number_sections": true,
   "sideBar": true,
   "skip_h1_title": false,
   "title_cell": "Table of Contents",
   "title_sidebar": "Contents",
   "toc_cell": false,
   "toc_position": {},
   "toc_section_display": true,
   "toc_window_display": false
  }
 },
 "nbformat": 4,
 "nbformat_minor": 1
}
